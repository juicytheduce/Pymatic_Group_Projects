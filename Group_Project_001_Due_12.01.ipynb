{
 "cells": [
  {
   "cell_type": "markdown",
   "id": "215be4ee-b4f4-428e-983c-725b9af5a53f",
   "metadata": {},
   "source": [
    "# Group Project 001\n",
    "\n",
    "- *Submission Instruction*\n",
    "    - Clearly states your team number, team name, team members' first and last names and their contribution percentages.\n",
    "    - Please include **adequate comments/pseudocodes** in your script. Also, comments should also **highlight the Python concepts you adopted**. \n",
    "    - Team leader is responsible for submitting the script for the team to Canvas. You can submit either a Anaconda Cloud shared link or py/ipynb file. \n",
    "    - Script must be submitted before leaving the classroom.\n",
    "\n",
    "- *Requirements*\n",
    "    -  Must **exclusively** utilize Python concepts and techniques that have been covered in the class.\n",
    "    -  The use of external Python modules is strictly prohibited unless explicitly provided.\n",
    "\n",
    "- *Grading Criteria (Possible Surprising Points: 100)*\n",
    "    - **Correctness (40%)**: The code should function as intended, producing accurate outputs.\n",
    "    - **Readability (30%)**: Code readability is essential for collaborative work in professional environments. This includes clear and consistent naming conventions for variables and functions, as well as adequate but not too lengthy commenting (pseudocodes) to explain complex logic.\n",
    "    - **Conciseness (20%)**: While readable, codes should also be concise, avoiding unnecessary complexity or redundancy. For instance, repetitive codes can be avoided by defining functions, using walrus operator, or conditional expression, list/dictionary comprehensions, etc."
   ]
  },
  {
   "cell_type": "code",
   "execution_count": null,
   "id": "f4cd12d7-8aa2-4940-971c-307735ce078c",
   "metadata": {
    "tags": []
   },
   "outputs": [
    {
     "name": "stdout",
     "output_type": "stream",
     "text": [
      "Team No: xxx\n",
      "Team Name: xxx\n",
      "('Team Member1', 'Contribution'): ('xxx', 'xx%')\n",
      "('Team Member2', 'Contribution'): ('xxx', 'xx%')\n",
      "('Team Member3', 'Contribution'): ('xxx', 'xx%')\n"
     ]
    }
   ],
   "source": [
    "# please enter your team information here\n",
    "team_info = {\n",
    "    \"Team No\": \"xxx\",\n",
    "    \"Team Name\": \"xxx\",\n",
    "    (\"Team Member1\", \"Contribution\"): (\"xxx\", \"xx%\"),\n",
    "    (\"Team Member2\", \"Contribution\"): (\"xxx\", \"xx%\"),  # remove if not applicable\n",
    "    (\"Team Member3\", \"Contribution\"): (\"xxx\", \"xx%\")   # remove if not applicable\n",
    "}\n",
    "\n",
    "for k, v in team_info.items():\n",
    "    print(f'{k}: {v}')"
   ]
  },
  {
   "cell_type": "markdown",
   "id": "8d37ea43-1c28-4e3b-8faf-bce839bd8370",
   "metadata": {
    "tags": []
   },
   "source": [
    "- **Task Description**\n",
    "    \n",
    "    - Develop a Python program that simulates taking orders at a café. The program will allow customers to order coffee, snacks, and beverages, take note of special requests, and calculate the total cost, including an optional tip. The system will provide a detailed receipt.\n",
    "    - The task is decomposed into the following subtasks:\n",
    "    \n",
    "        - 1. Prompt the customer to input their name and display a personalized welcome message using an f-string.\n",
    "        - 2. Provide a predefined menu of coffee, snacks, and beverages with their respective prices.\n",
    "        - 3. Continuously ask the customer for their order until they indicate they are done.\n",
    "        - 4. Allow customers to order multiple quantities of the same item.\n",
    "        - 5. Account for invalid inputs (e.g., item not on the menu or incorrect quantity).\n",
    "        - 6. Prompt the customer to add special requests (e.g., \"extra cream,\" \"no sugar\") for their coffee or beverages.\n",
    "        - 7. Use a dictionary to store the order, including item names, quantities, special requests, and total prices.\n",
    "        - 8. Calculate the total cost, including an optional tip (e.g., prompt the customer for a tip percentage).\n",
    "        - 9. Print a detailed receipt showing each item, its quantity, special requests, and price.\n",
    "        - 10. Include the subtotal, tip amount (if applicable), and the grand total.\n",
    "    \n",
    "    - Please include reasonable pseudocodes and clearly comment which concepts covered in the class you have used to develop your program."
   ]
  },
  {
   "cell_type": "code",
   "execution_count": null,
   "id": "dd5c9c5e-a4ab-4207-a94f-05177b16f8a4",
   "metadata": {},
   "outputs": [],
   "source": [
    "# Menu items\n",
    "menu = {\n",
    "        \"Espresso\": 3.00,\n",
    "        \"Latte\": 4.50,\n",
    "        \"Cappuccino\": 4.00,\n",
    "        \"Mocha\": 4.75,\n",
    "        \"Hot Chocolate\": 3.50,\n",
    "        \"Croissant\": 2.75,\n",
    "        \"Blueberry Muffin\": 3.25,\n",
    "        \"Bagel\": 2.50,\n",
    "        \"Orange Juice\": 2.75,\n",
    "        \"Smoothie\": 4.25\n",
    "    }\n",
    "\n",
    "#Functions\n",
    "def checkInput():\n",
    "    # Prompts the user for an order and validates it.\n",
    "    while True:\n",
    "        newOrder = input(f\"Welcome {name}, what would you like to order (0 to quit)? \")\n",
    "        if newOrder in menu or newOrder == \"0\":\n",
    "            return newOrder\n",
    "        else:\n",
    "            print(\"Error: Item not in the menu. Please try again.\")\n",
    "\n",
    "def takeOrder(order, totalOrder):\n",
    "    # Adds the item to the order dictionary or increments its count.\"\"\"\n",
    "    if order in totalOrder:\n",
    "        totalOrder[order] += 1\n",
    "    else:\n",
    "        totalOrder[order] = 1\n",
    "    return totalOrder\n",
    "\n"
   ]
  },
  {
   "cell_type": "code",
   "execution_count": null,
   "id": "a8896143",
   "metadata": {},
   "outputs": [
    {
     "name": "stdout",
     "output_type": "stream",
     "text": [
      "\n",
      "------------- MENU -----------------\n",
      "Espresso - $3.0\n",
      "Latte - $4.5\n",
      "Cappuccino - $4.0\n",
      "Mocha - $4.75\n",
      "Hot Chocolate - $3.5\n",
      "Croissant - $2.75\n",
      "Blueberry Muffin - $3.25\n",
      "Bagel - $2.5\n",
      "Orange Juice - $2.75\n",
      "Smoothie - $4.25\n"
     ]
    }
   ],
   "source": [
    "# Declarations\n",
    "totalOrder = {}\n",
    "order = \"\"\n",
    "\n",
    "# Display a welcome message and ask for the customer's name\n",
    "name = input(\"Hello, please enter your name: \")\n",
    "\n",
    "\n",
    "# Display the menu with available items and their prices\n",
    "print(f'\\n------------- MENU -----------------')\n",
    "for k, v in menu.items(): \n",
    "    print(f\"{k} - ${v}\")  \n",
    "\n",
    "#Take customers order\n",
    "while True:\n",
    "    # Check input to confirm it's in the menu or exit\n",
    "    order = checkInput()\n",
    "    # Exit the loop if the user enters \"0\"\n",
    "    if order == \"0\":\n",
    "        print(\"\\nThank you for your order!\")\n",
    "        break\n",
    "    # Add the item to the order\n",
    "    totalOrder = takeOrder(order, totalOrder)\n",
    "    # Print the current order summary\n",
    "    print(\"\\nCurrent Order Summary:\")\n",
    "    for item, quantity in totalOrder.items():\n",
    "        print(f\"{item}: {quantity}\")"
   ]
  },
  {
   "cell_type": "code",
   "execution_count": null,
   "id": "0cc0e411",
   "metadata": {},
   "outputs": [],
   "source": []
  }
 ],
 "metadata": {
  "kernelspec": {
   "display_name": "Python 3 (ipykernel)",
   "language": "python",
   "name": "python3"
  },
  "language_info": {
   "codemirror_mode": {
    "name": "ipython",
    "version": 3
   },
   "file_extension": ".py",
   "mimetype": "text/x-python",
   "name": "python",
   "nbconvert_exporter": "python",
   "pygments_lexer": "ipython3",
   "version": "3.12.1"
  }
 },
 "nbformat": 4,
 "nbformat_minor": 5
}
